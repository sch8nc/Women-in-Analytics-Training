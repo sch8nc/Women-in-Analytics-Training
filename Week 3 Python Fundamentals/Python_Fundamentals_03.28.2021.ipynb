{
 "cells": [
  {
   "cell_type": "markdown",
   "metadata": {},
   "source": [
    "# Python Fundamentals"
   ]
  },
  {
   "cell_type": "markdown",
   "metadata": {},
   "source": [
    "## Contents"
   ]
  },
  {
   "cell_type": "markdown",
   "metadata": {},
   "source": [
    "- [Setting Up Anaconda](#Setting-Up-Anaconda)\n",
    "- [Running Code](#Running-Code)\n",
    "- [Loading Packages](#Loading-Packages)\n",
    "- [Working Directory and Path](#Working-Directory-and-Path)\n",
    "- [Data Types](#Data-Types)\n",
    "- [Functions](#Functions)\n",
    "- [Classes and Objects](#Classes-and-Objects)\n",
    "- [Collections](#Collections)\n",
    "- [Slicing](#Slicing)\n",
    "- [Conditional Statements](#Conditional-Statements)\n",
    "- [Loops and List Comprehension](#Loops-and-List-Comprehension)"
   ]
  },
  {
   "cell_type": "markdown",
   "metadata": {},
   "source": [
    "## Setting Up Anaconda\n"
   ]
  },
  {
   "cell_type": "markdown",
   "metadata": {},
   "source": [
    "### Installing the Anaconda Python Distribution"
   ]
  },
  {
   "cell_type": "markdown",
   "metadata": {},
   "source": [
    "A common way to install Python for analytics and data science is by installing **Anaconda**. Anaconda is a pre-packaged Python distribution that comes with Python and an additional set of packages for analytics and data science. See the file [Downloading and Installing Anaconda](Download_Anaconda_Instructions.docx) for detail."
   ]
  },
  {
   "cell_type": "markdown",
   "metadata": {},
   "source": [
    "### Helpful Python Resources\n",
    "\n",
    "* Official Python 3 Documentation: https://docs.python.org/3/\n",
    "* Real Python: https://realpython.com/\n",
    "* Full Stack Python: https://www.fullstackpython.com/best-python-resources.html\n",
    "* Python Wiki: https://wiki.python.org/moin/BeginnersGuide/Programmers\n",
    "* The Hitchhiker's Guide to Learning Python: https://docs.python-guide.org/intro/learning/\n",
    "* Interactive Python Tutorials: https://www.learnpython.org/"
   ]
  },
  {
   "cell_type": "markdown",
   "metadata": {},
   "source": [
    "# Running Code"
   ]
  },
  {
   "cell_type": "markdown",
   "metadata": {},
   "source": [
    "### Getting started with Python\n",
    "There are several different ways to interact with Python. You can run Python code directly from the command line, using text editors (Sublime, Notepad++), using Jupyter notebooks like we're using here, using an Integrated Development Environment or IDE (Visual Studio, Spyder, Atom).\n",
    "\n",
    "#### Running Python via Command Line\n",
    "Let's walk through some examples with a demo! \n",
    "\n",
    "#### Running Python in Visual Studio\n",
    "Let's again walk through some examples with a demo!"
   ]
  },
  {
   "cell_type": "markdown",
   "metadata": {},
   "source": [
    "#### Running Python in Jupyter Notebooks\n",
    "\n",
    "In Jupyter Notebooks (like this one), you can run Python code **interactively**, line-by-line, by writing Python code and executing it in real-time:"
   ]
  },
  {
   "cell_type": "code",
   "execution_count": 1,
   "metadata": {
    "scrolled": true
   },
   "outputs": [
    {
     "name": "stdout",
     "output_type": "stream",
     "text": [
      "hello!\n"
     ]
    }
   ],
   "source": [
    "# Your first Python code!\n",
    "# Below is a print function.\n",
    "# Run this cell by clicking > Run or Shift+Enter to see the output.\n",
    "\n",
    "print(\"hello!\")"
   ]
  },
  {
   "cell_type": "markdown",
   "metadata": {},
   "source": [
    "The **order** of statements matters. Python, generally speaking, will execute statements in a **sequential** order, line-by-line:"
   ]
  },
  {
   "cell_type": "code",
   "execution_count": 2,
   "metadata": {},
   "outputs": [
    {
     "name": "stdout",
     "output_type": "stream",
     "text": [
      "A\n",
      "B\n",
      "C\n",
      "D\n",
      "E\n",
      "F\n",
      "G\n"
     ]
    }
   ],
   "source": [
    "letters = ['a', 'b', 'c', 'd', 'e', 'f', 'g']\n",
    "for letter in letters:\n",
    "    print(letter.upper())"
   ]
  },
  {
   "cell_type": "markdown",
   "metadata": {},
   "source": [
    "Don't worry if you aren't familiar with the `for letter in letters:` construct here. We'll revisit this later."
   ]
  },
  {
   "cell_type": "markdown",
   "metadata": {},
   "source": [
    "**Variables** hold data so that you can give that data a name. You assign to a variable with `=`:"
   ]
  },
  {
   "cell_type": "code",
   "execution_count": 3,
   "metadata": {},
   "outputs": [
    {
     "name": "stdout",
     "output_type": "stream",
     "text": [
      "25\n"
     ]
    }
   ],
   "source": [
    "my_variable = 5\n",
    "\n",
    "print(my_variable * 5)"
   ]
  },
  {
   "cell_type": "markdown",
   "metadata": {},
   "source": [
    "**Case and capitalization matter**. Python is strict about these:"
   ]
  },
  {
   "cell_type": "code",
   "execution_count": 4,
   "metadata": {},
   "outputs": [
    {
     "ename": "NameError",
     "evalue": "name 'My_Variable' is not defined",
     "output_type": "error",
     "traceback": [
      "\u001b[1;31m---------------------------------------------------------------------------\u001b[0m",
      "\u001b[1;31mNameError\u001b[0m                                 Traceback (most recent call last)",
      "\u001b[1;32m<ipython-input-4-04948c4929ee>\u001b[0m in \u001b[0;36m<module>\u001b[1;34m\u001b[0m\n\u001b[0;32m      1\u001b[0m \u001b[1;31m# This will cause an error, since the variable name is my_variable\u001b[0m\u001b[1;33m\u001b[0m\u001b[1;33m\u001b[0m\u001b[1;33m\u001b[0m\u001b[0m\n\u001b[1;32m----> 2\u001b[1;33m \u001b[0mprint\u001b[0m\u001b[1;33m(\u001b[0m\u001b[0mMy_Variable\u001b[0m \u001b[1;33m*\u001b[0m \u001b[1;36m5\u001b[0m\u001b[1;33m)\u001b[0m\u001b[1;33m\u001b[0m\u001b[1;33m\u001b[0m\u001b[0m\n\u001b[0m",
      "\u001b[1;31mNameError\u001b[0m: name 'My_Variable' is not defined"
     ]
    }
   ],
   "source": [
    "# This will cause an error, since the variable name is my_variable\n",
    "print(My_Variable * 5)"
   ]
  },
  {
   "cell_type": "markdown",
   "metadata": {},
   "source": [
    "**Indentation and spacing matter**. This is how Python allows you to express **logic** and run code according to **conditions** (more on the specifics of functions and conditional statements to come):"
   ]
  },
  {
   "cell_type": "code",
   "execution_count": 5,
   "metadata": {},
   "outputs": [
    {
     "name": "stdout",
     "output_type": "stream",
     "text": [
      "Sum is greater than 10\n"
     ]
    }
   ],
   "source": [
    "# Define a function called add_numbers that adds its two inputs\n",
    "\n",
    "def add_numbers(first, second):\n",
    "    return first + second\n",
    "\n",
    "# Use the function we defined to determine if 5 + 6 > 10 \n",
    "if add_numbers(5, 6) > 10:\n",
    "    print(\"Sum is greater than 10\")\n",
    "else:\n",
    "    print(\"Sum is less than 10\")"
   ]
  },
  {
   "cell_type": "markdown",
   "metadata": {},
   "source": [
    "# Loading Packages"
   ]
  },
  {
   "cell_type": "markdown",
   "metadata": {},
   "source": [
    "A **module** is an individual `.py` file, such as `my_module.py`, that is a collection of functions, variables, and classes designed with a common theme or purpose.\n",
    "\n",
    "The Python **standard library** includes some commonly-used modules:\n",
    "\n",
    "- [os](https://docs.python.org/3/library/os.html): a portable way of using operating system-dependent functionality.\n",
    "- [datetime](https://docs.python.org/3/library/datetime.html): supplies classes for manipulating dates and times.\n",
    "\n",
    "A **library** or **package** is a collection of multiple modules that allows one to bundle up some type of functionality that other developers and data scientist can use.\n",
    "\n",
    "* **Pandas**: DataFrame & Series manipulation for data management\n",
    "* **Numpy**: Array/matrix manipulation and management (similar to MATLAB)\n",
    "* **Seaborn**: High-level data visualization interface\n",
    "* **Matplotlib**: Manipulate figures, visualzations, and representations"
   ]
  },
  {
   "cell_type": "code",
   "execution_count": 8,
   "metadata": {},
   "outputs": [],
   "source": [
    "# load some packages:\n",
    "import sys #Provides information on the runtime environment\n",
    "import os #Provides information on your operating system"
   ]
  },
  {
   "cell_type": "markdown",
   "metadata": {},
   "source": [
    "If a package has a long name, you can give it a shorter \"alias\" name that you can use throughout your code instead. Below, we use the alias \"np\" for Python package numpy:"
   ]
  },
  {
   "cell_type": "code",
   "execution_count": 6,
   "metadata": {},
   "outputs": [],
   "source": [
    "import numpy as np #Now \"numpy\" will be referred to as \"np\" throughout the rest of your code."
   ]
  },
  {
   "cell_type": "markdown",
   "metadata": {},
   "source": [
    "These imports are put into your **namespace**. You can use **dot-notation** to reference the functions that they export. For instance, you can use the `getlogin()` function from the `os` module to find the active username:"
   ]
  },
  {
   "cell_type": "code",
   "execution_count": 31,
   "metadata": {},
   "outputs": [
    {
     "data": {
      "text/plain": [
       "'sarahansen'"
      ]
     },
     "execution_count": 31,
     "metadata": {},
     "output_type": "execute_result"
    }
   ],
   "source": [
    "os.getlogin()"
   ]
  },
  {
   "cell_type": "markdown",
   "metadata": {},
   "source": [
    "# Working Directory and Path"
   ]
  },
  {
   "cell_type": "markdown",
   "metadata": {},
   "source": [
    "Python uses the concept of a working directory (exactly like many other programs). Everytime we start Python, it is started 'somewhere' on our computer (filesystem). Where python is started depends on environment variables in your operating system and how you started Python. It may be helpful to set the working directory for my session to be wherever your project files are, and organize a directory like the structure below, then set the working directory to the top level:\n",
    "\n",
    "`project1 --->\n",
    "        --> Data\n",
    "        --> Code\n",
    "        --> Results\n",
    "        --> Etc...`\n",
    "        \n",
    "So in this case, we would set the working directory to be the file location for project1. You should have downloaded a group of files for this class. You need to modify the working directory to be wherever you have downloaded the files to on your computer (on your filesystem). If you downloaded them to your 'documents' folder and named the folder 'python_course' (and your username is sarahansen), the file path might be this:\n",
    "\n",
    "`c:\\users\\sarahansen\\documents\\python_course\\`\n",
    "\n",
    "Figure out where you have downloaded the folder to, and change the code below to assign the correct working directory. We use the **os package** to change the working directory.\n",
    "\n",
    "- os.getcwd() provides our current working directory\n",
    "- os.chdir(path) allows you to change the current working directory when provided with the path as an input"
   ]
  },
  {
   "cell_type": "code",
   "execution_count": 12,
   "metadata": {},
   "outputs": [
    {
     "name": "stdout",
     "output_type": "stream",
     "text": [
      "My working directory:\n",
      "C:\\Users\\sarahansen\\Desktop\n",
      "My working directory:\n",
      "C:\\Users\\sarahansen\\Documents\\python_course\n"
     ]
    }
   ],
   "source": [
    "# Working Directory\n",
    "print(\"My working directory:\\n\" + os.getcwd())\n",
    "# Set Working Directory - CHANGE THIS CODE\n",
    "os.chdir(r\"C:\\Users\\sarahansen\\Documents\\python_course\")\n",
    "# Confirm it changed the working Directory\n",
    "print(\"My working directory:\\n\" + os.getcwd())"
   ]
  },
  {
   "cell_type": "markdown",
   "metadata": {},
   "source": [
    "# Data Types"
   ]
  },
  {
   "cell_type": "markdown",
   "metadata": {},
   "source": [
    "Data types are attributes of the data that tell us how that data is going to be used or interpreted by the program.\n",
    "\n",
    "Important data types to know and understand:\n",
    "\n",
    "- __String__: Represents data as character values. Not just letters, but can also inclue numbers i.e. \"Apple\" or \"18\"\n",
    "- __Integer__: Whole number data type i.e. 17\n",
    "- __Float__: Decimal number data type i.e 17.7465 or 17.00\n",
    "- __Boolean__: Data type representing TRUE or FALSE. Used for logic statements\n",
    "\n",
    "\n",
    "Variables are containers for storing data values and are created using `=`."
   ]
  },
  {
   "cell_type": "code",
   "execution_count": 1,
   "metadata": {
    "scrolled": false
   },
   "outputs": [],
   "source": [
    "string_variable = \"hello\"\n",
    "integer_variable = 8\n",
    "float_variable = 8.45\n",
    "boolean_variable = False"
   ]
  },
  {
   "cell_type": "code",
   "execution_count": 30,
   "metadata": {},
   "outputs": [
    {
     "name": "stdout",
     "output_type": "stream",
     "text": [
      "False\n",
      "True\n"
     ]
    }
   ],
   "source": [
    "#Boolean variables can be created by any \"condition,\" or something that returns a true/false value.\n",
    "print(boolean_variable)\n",
    "boolean_variable = (2==2)\n",
    "print(boolean_variable)"
   ]
  },
  {
   "cell_type": "markdown",
   "metadata": {},
   "source": [
    "### Converting Between Types"
   ]
  },
  {
   "cell_type": "markdown",
   "metadata": {},
   "source": [
    "Python objects have a **type**, as shown above.\n",
    "\n",
    "Why this matter is that **type determines the behavior of the object.** Using the `+` operator will behave differently for an integer (`int`) versus string (`str`)."
   ]
  },
  {
   "cell_type": "markdown",
   "metadata": {},
   "source": [
    "Using `+` with integers adds them:"
   ]
  },
  {
   "cell_type": "code",
   "execution_count": 72,
   "metadata": {},
   "outputs": [
    {
     "data": {
      "text/plain": [
       "(int, int)"
      ]
     },
     "execution_count": 72,
     "metadata": {},
     "output_type": "execute_result"
    }
   ],
   "source": [
    "a = 5\n",
    "b = 7\n",
    "type(a), type(b)"
   ]
  },
  {
   "cell_type": "code",
   "execution_count": 73,
   "metadata": {},
   "outputs": [
    {
     "data": {
      "text/plain": [
       "12"
      ]
     },
     "execution_count": 73,
     "metadata": {},
     "output_type": "execute_result"
    }
   ],
   "source": [
    "a + b"
   ]
  },
  {
   "cell_type": "markdown",
   "metadata": {},
   "source": [
    "Whereas using `+` with strings **concatenates them** (joins them together):"
   ]
  },
  {
   "cell_type": "code",
   "execution_count": 74,
   "metadata": {},
   "outputs": [
    {
     "data": {
      "text/plain": [
       "(str, str)"
      ]
     },
     "execution_count": 74,
     "metadata": {},
     "output_type": "execute_result"
    }
   ],
   "source": [
    "a = \"multiple\"\n",
    "b = \"words\"\n",
    "type(a), type(b)"
   ]
  },
  {
   "cell_type": "code",
   "execution_count": 75,
   "metadata": {},
   "outputs": [
    {
     "data": {
      "text/plain": [
       "'multiple words'"
      ]
     },
     "execution_count": 75,
     "metadata": {},
     "output_type": "execute_result"
    }
   ],
   "source": [
    "a + \" \" + b"
   ]
  },
  {
   "cell_type": "markdown",
   "metadata": {},
   "source": [
    "You can use Python's built-in functions to convert from one type to another and assign the result into a new variable."
   ]
  },
  {
   "cell_type": "code",
   "execution_count": 1,
   "metadata": {},
   "outputs": [
    {
     "name": "stdout",
     "output_type": "stream",
     "text": [
      "What year is it Enter a number? 2020\n"
     ]
    },
    {
     "data": {
      "text/plain": [
       "str"
      ]
     },
     "execution_count": 1,
     "metadata": {},
     "output_type": "execute_result"
    }
   ],
   "source": [
    "user_answer = input(\"What year is it Enter a number? \")\n",
    "\n",
    "type(user_answer)"
   ]
  },
  {
   "cell_type": "markdown",
   "metadata": {},
   "source": [
    "Let's subtract the year 2000 from this input:"
   ]
  },
  {
   "cell_type": "code",
   "execution_count": 2,
   "metadata": {},
   "outputs": [
    {
     "ename": "TypeError",
     "evalue": "unsupported operand type(s) for -: 'str' and 'int'",
     "output_type": "error",
     "traceback": [
      "\u001b[1;31m---------------------------------------------------------------------------\u001b[0m",
      "\u001b[1;31mTypeError\u001b[0m                                 Traceback (most recent call last)",
      "\u001b[1;32m<ipython-input-2-9048cf76c5eb>\u001b[0m in \u001b[0;36m<module>\u001b[1;34m\u001b[0m\n\u001b[1;32m----> 1\u001b[1;33m \u001b[0myears_since_y2k\u001b[0m \u001b[1;33m=\u001b[0m \u001b[0muser_answer\u001b[0m \u001b[1;33m-\u001b[0m \u001b[1;36m2000\u001b[0m\u001b[1;33m\u001b[0m\u001b[1;33m\u001b[0m\u001b[0m\n\u001b[0m",
      "\u001b[1;31mTypeError\u001b[0m: unsupported operand type(s) for -: 'str' and 'int'"
     ]
    }
   ],
   "source": [
    "years_since_y2k = user_answer - 2000"
   ]
  },
  {
   "cell_type": "markdown",
   "metadata": {},
   "source": [
    "Uh-oh. `input()` produces a `str`. How do we subtract an `int`? You can use `int()` to explicitly convert the type:"
   ]
  },
  {
   "cell_type": "code",
   "execution_count": 4,
   "metadata": {},
   "outputs": [
    {
     "name": "stdout",
     "output_type": "stream",
     "text": [
      "<class 'int'>\n",
      "20\n"
     ]
    }
   ],
   "source": [
    "years_since_y2k = int(user_answer) - 2000\n",
    "print(type(years_since_y2k))\n",
    "print(years_since_y2k)"
   ]
  },
  {
   "cell_type": "markdown",
   "metadata": {},
   "source": [
    "To print integers/other data types in the middle of a string, we can use a Python functionality called \"F string formatting.\" If we place the letter f before a string, and then put the name of the variable in curly braces, Python will include the variable value as a part of the string:"
   ]
  },
  {
   "cell_type": "code",
   "execution_count": 5,
   "metadata": {},
   "outputs": [
    {
     "name": "stdout",
     "output_type": "stream",
     "text": [
      "It has been 20 years since Y2K. The computers still haven't broke!\n"
     ]
    }
   ],
   "source": [
    "print(f\"It has been {years_since_y2k} years since Y2K. The computers still haven't broke!\")"
   ]
  },
  {
   "cell_type": "markdown",
   "metadata": {},
   "source": [
    "# Functions"
   ]
  },
  {
   "cell_type": "markdown",
   "metadata": {},
   "source": [
    "Functions in Python all follow a standard formatting. Below is an example of a function that returns the sum of `first_number` and `second_number`."
   ]
  },
  {
   "cell_type": "code",
   "execution_count": 80,
   "metadata": {
    "scrolled": true
   },
   "outputs": [
    {
     "name": "stdout",
     "output_type": "stream",
     "text": [
      "11\n",
      "23\n"
     ]
    }
   ],
   "source": [
    "def sum_function(first_number, second_number):\n",
    "    total =  first_number + second_number\n",
    "    print(total)\n",
    "\n",
    "x = 5\n",
    "y = 6\n",
    "\n",
    "sum_function(x, y);\n",
    "sum_function(9, 14);"
   ]
  },
  {
   "cell_type": "markdown",
   "metadata": {},
   "source": [
    "It looks daunting at first, but it actually breaks down pretty nicely. A function is comprised of:\n",
    "\n",
    "- `def` keyword\n",
    "- Function name (based on the example 'sum_function')\n",
    "- Parameters passed in to be used in the function (in this case 'first_number' and 'second_number')\n",
    "- A semicolon `':'` after the parameter statement\n",
    "- The body of the function containing the code to be executed\n",
    "\n",
    "_Note: After the definition statement, the body of the function is always indented. This is how Python distinguishes what is and what is not part of the function_\n",
    "\n",
    "The above example uses both the print and return statement. These are different in the sense that the print function will physically print out the value of 'total', while the return statement returns you the object 'total' with its value that can be used in other functions. This is where it helps to understand passing things as an object, or object-oriented programming.\n",
    "\n",
    "What follows the function is the assignment of values to the two arguments, which are known as parameters. After assignment, the function is called by typing the function's name and adding in the two variables. \n",
    "\n",
    "In the above example, the function knows 'x' refers to 'first_number' positionally, and the same goes for 'y' and 'second_number'.\n",
    "\n",
    "This is just a simple example function with two arguments. When creating a function, you can have unlimited parameters and you can even use one catch all term for keyword arguments to capture multiple parameters without having to type each one out, but that is a more advanced topic outside the scope of this course. Functions can also be called within one another. You can have a long line of functions calling one another in your Python code to execute multiple functions in one line of code."
   ]
  },
  {
   "cell_type": "markdown",
   "metadata": {},
   "source": [
    "### What's the Difference Between `print()` and `return` ?"
   ]
  },
  {
   "cell_type": "markdown",
   "metadata": {},
   "source": [
    "One nice thing about functions is that they are **reusable**.\n",
    "\n",
    "Another developer or end user can apply their own input values and use the output (return value) from the function that you define.\n",
    "\n",
    "- Using `print()` will only, like it's name implies, print a string to your screen. The function doesn't have a \"result.\" (Technically, it's result is `None`.)\n",
    "- Using `return` will return a value from the function. You can call the function, grab the return value, and use it where you see fit."
   ]
  },
  {
   "cell_type": "code",
   "execution_count": 83,
   "metadata": {},
   "outputs": [
    {
     "name": "stdout",
     "output_type": "stream",
     "text": [
      "11\n"
     ]
    }
   ],
   "source": [
    "def sum_function(first_number, second_number):\n",
    "    total =  first_number + second_number\n",
    "    # It is more common to *return* values from functions than print() them.\n",
    "    return total\n",
    "\n",
    "print(sum_function(5, 6))"
   ]
  },
  {
   "cell_type": "markdown",
   "metadata": {},
   "source": [
    "Additional function examples in this tutorial will mostly use `return` rather than `print()` for this reason."
   ]
  },
  {
   "cell_type": "markdown",
   "metadata": {},
   "source": [
    "### Practice: Creating Functions"
   ]
  },
  {
   "cell_type": "markdown",
   "metadata": {},
   "source": [
    "Create a function that calculates the hypotenuse of a right angle triangle c, given two inputs, a and b that correspond to the two perpendicular sides of the triangle.\n",
    "\n",
    "Let this function return the value of `c`."
   ]
  },
  {
   "cell_type": "markdown",
   "metadata": {},
   "source": [
    "**Hint**: The equation for calculating the hypotenuse (`c`) from inputs `a` and `b` is:"
   ]
  },
  {
   "cell_type": "markdown",
   "metadata": {},
   "source": [
    "$$\n",
    "c = \\sqrt{a^2 + b^2}\n",
    "$$"
   ]
  },
  {
   "cell_type": "code",
   "execution_count": 84,
   "metadata": {
    "scrolled": true
   },
   "outputs": [],
   "source": [
    "from math import sqrt\n",
    "\n",
    "def pythagorean_function(a, b):\n",
    "    pass  # Define me!"
   ]
  },
  {
   "cell_type": "markdown",
   "metadata": {},
   "source": [
    "# Classes and Objects"
   ]
  },
  {
   "cell_type": "markdown",
   "metadata": {},
   "source": [
    "#### Python is an object-oriented programming (OOP) language. What does that mean?\n",
    "The OOP paradigm is centered around the concept of objects that represent real-world things (example: a person). Objects have two main characteristics: data (attributes) and behavior (methods). \n",
    "\n",
    "A **class** is the template from which objects are built and objects are one particular representation of the class. \n",
    "\n",
    "For example: If <b>Person</b> represents a class, then <b>John Doe</b> could represent an object of that class.\n",
    "\n",
    "- You define a class once.\n",
    "- You create **instances** of a class multiple times. Each instance represents a distinct thing."
   ]
  },
  {
   "cell_type": "markdown",
   "metadata": {},
   "source": [
    "For example, say that **John Doe** defines the following function:"
   ]
  },
  {
   "cell_type": "code",
   "execution_count": 81,
   "metadata": {},
   "outputs": [],
   "source": [
    "def longest_name(names) -> str:\n",
    "    \"\"\"Find longest name in a sequence of names.\"\"\"\n",
    "    longest = names[0]\n",
    "    if len(names) == 0:\n",
    "        return longest\n",
    "    for n in names[1:]:\n",
    "        if len(n) > len(longest):\n",
    "            longest = n\n",
    "    # Give the result value back to the caller of the function\n",
    "    return longest"
   ]
  },
  {
   "cell_type": "markdown",
   "metadata": {},
   "source": [
    "Now **Jane Doe** wants to _use_ the `longest_name()` function:"
   ]
  },
  {
   "cell_type": "code",
   "execution_count": 82,
   "metadata": {},
   "outputs": [
    {
     "name": "stdout",
     "output_type": "stream",
     "text": [
      "The longest name from the group is Mathangi.\n"
     ]
    }
   ],
   "source": [
    "names = (\"Ted\", \"Phoebe\", \"Mathangi\", \"Shana\")\n",
    "\n",
    "# Jane Doe is the *caller* of the longest_name() function.\n",
    "# She assigns the *return value* to the variable `result`.\n",
    "result = longest_name(names)\n",
    "\n",
    "print(f\"The longest name from the group is {result}.\")"
   ]
  },
  {
   "cell_type": "markdown",
   "metadata": {},
   "source": [
    "##### Exercise: Let's create an object John Doe of class Person. \n",
    "\n",
    "John has the following attributes (data points):\n",
    "- First name: John\n",
    "- Last name: Doe\n",
    "- Birthday: today\n",
    "- Address: 1234 Main Street\n",
    "- Phone number: 123-456-7891\n",
    "- Email: `john.doe@example.com`"
   ]
  },
  {
   "cell_type": "code",
   "execution_count": 85,
   "metadata": {},
   "outputs": [],
   "source": [
    "import datetime \n",
    "\n",
    "class Person:\n",
    "    \"\"\"Person is a *class* that stores information about a person.\n",
    "    \n",
    "    It can define *methods* to calculate or derive information\n",
    "    about that person.\n",
    "    \"\"\"\n",
    "\n",
    "    def __init__(self, name, surname, birthdate, address, telephone, email):\n",
    "        self.name = name\n",
    "        self.surname = surname\n",
    "        self.birthdate = birthdate\n",
    "\n",
    "        self.address = address\n",
    "        self.telephone = telephone\n",
    "        self.email = email\n",
    "\n",
    "    def age(self) -> int:\n",
    "        \"\"\"Calculate Person's age in years, an integer (number).\"\"\"\n",
    "        today = datetime.date.today()\n",
    "        age = today.year - self.birthdate.year\n",
    "\n",
    "        if today < datetime.date(today.year, self.birthdate.month, self.birthdate.day):\n",
    "            # Subtract 1 in some cases\n",
    "            age -= 1\n",
    "\n",
    "        return age\n",
    "\n",
    "    def full_name(self) -> str:\n",
    "        \"\"\"Combine name and surname into a single string.\"\"\"\n",
    "        return f\"{self.name} {self.surname}\""
   ]
  },
  {
   "cell_type": "code",
   "execution_count": 86,
   "metadata": {},
   "outputs": [
    {
     "name": "stdout",
     "output_type": "stream",
     "text": [
      "John\n",
      "john.doe@example.com\n",
      "28\n",
      "John Doe\n"
     ]
    }
   ],
   "source": [
    "# John Doe *is-a* Person.\n",
    "# We can create multiple *people* from the *Person* class.\n",
    "\n",
    "person = Person(\n",
    "    \"John\",\n",
    "    \"Doe\",\n",
    "    datetime.date(1992, 6, 26), # year, month, day\n",
    "    \"1234 Main Street\",\n",
    "    \"123-456-7891\",\n",
    "    \"john.doe@example.com\"\n",
    ")\n",
    "\n",
    "print(person.name)\n",
    "print(person.email)\n",
    "print(person.age())\n",
    "print(person.full_name())"
   ]
  },
  {
   "cell_type": "code",
   "execution_count": 87,
   "metadata": {},
   "outputs": [
    {
     "name": "stdout",
     "output_type": "stream",
     "text": [
      "Jane\n",
      "jane.doe@example.org\n",
      "30\n",
      "Jane Doe\n"
     ]
    }
   ],
   "source": [
    "# Jane Doe *is-a* Person.\n",
    "# We can create multiple *people* from the *Person* class.\n",
    "\n",
    "other_person = Person(\n",
    "    \"Jane\",\n",
    "    \"Doe\",\n",
    "    datetime.date(1990, 1, 23), # year, month, day\n",
    "    \"1234 Market Lane\",\n",
    "    \"123-456-9999\",\n",
    "    \"jane.doe@example.org\"\n",
    ")\n",
    "\n",
    "print(other_person.name)\n",
    "print(other_person.email)\n",
    "print(other_person.age())\n",
    "print(other_person.full_name())"
   ]
  },
  {
   "cell_type": "markdown",
   "metadata": {},
   "source": [
    "Above, you created 2 people from the `Person` class."
   ]
  },
  {
   "cell_type": "markdown",
   "metadata": {},
   "source": [
    "# Collections"
   ]
  },
  {
   "cell_type": "markdown",
   "metadata": {},
   "source": [
    "What if we want to organize multiple python objects into a single object? We call this a 'collection' of objects. An example might be a list of customer_ids, or a list of addresses...  \n",
    "There are multiple collections (or containers) in Python we can use. We will go over the basics here:\n",
    "- __List__: A sequence of values\n",
    "- __Dictionary__: Key-value pair representation that **maps** keys to values\n",
    "- __Tuple__: An **immutable** (unchangeable) sequence of objects"
   ]
  },
  {
   "cell_type": "code",
   "execution_count": 3,
   "metadata": {},
   "outputs": [],
   "source": [
    "list_variable = [1, 2, 3]\n",
    "dictionary_variable = {\"brand\": \"Ford\", \"model\": \"Mustang\", \"year\": 1964}\n",
    "tuple_variable = (\"tuples\", \"are\", \"not\", \"mutable\")"
   ]
  },
  {
   "cell_type": "markdown",
   "metadata": {},
   "source": [
    "Note that Python is indexed at Zero, meaning the first element of any collection is referenced as the \"0th\" element to Python."
   ]
  },
  {
   "cell_type": "code",
   "execution_count": 4,
   "metadata": {},
   "outputs": [
    {
     "name": "stdout",
     "output_type": "stream",
     "text": [
      "[1, 2, 3]\n"
     ]
    },
    {
     "data": {
      "text/plain": [
       "[5, 2, 3]"
      ]
     },
     "execution_count": 4,
     "metadata": {},
     "output_type": "execute_result"
    }
   ],
   "source": [
    "# Lists are mutable, eaning they can be changed/modified/edited/updated\n",
    "print(list_variable)\n",
    "\n",
    "#Change the first value of the list:\n",
    "list_variable[0] = 5\n",
    "list_variable"
   ]
  },
  {
   "cell_type": "code",
   "execution_count": 5,
   "metadata": {},
   "outputs": [
    {
     "name": "stdout",
     "output_type": "stream",
     "text": [
      "('tuples', 'are', 'not', 'mutable')\n"
     ]
    },
    {
     "ename": "TypeError",
     "evalue": "'tuple' object does not support item assignment",
     "output_type": "error",
     "traceback": [
      "\u001b[1;31m---------------------------------------------------------------------------\u001b[0m",
      "\u001b[1;31mTypeError\u001b[0m                                 Traceback (most recent call last)",
      "\u001b[1;32m<ipython-input-5-80801adf7e29>\u001b[0m in \u001b[0;36m<module>\u001b[1;34m\u001b[0m\n\u001b[0;32m      1\u001b[0m \u001b[1;31m# Tuples are immutable; reassignment of items is not allowed\u001b[0m\u001b[1;33m\u001b[0m\u001b[1;33m\u001b[0m\u001b[1;33m\u001b[0m\u001b[0m\n\u001b[0;32m      2\u001b[0m \u001b[0mprint\u001b[0m\u001b[1;33m(\u001b[0m\u001b[0mtuple_variable\u001b[0m\u001b[1;33m)\u001b[0m\u001b[1;33m\u001b[0m\u001b[1;33m\u001b[0m\u001b[0m\n\u001b[1;32m----> 3\u001b[1;33m \u001b[0mtuple_variable\u001b[0m\u001b[1;33m[\u001b[0m\u001b[1;36m0\u001b[0m\u001b[1;33m]\u001b[0m \u001b[1;33m=\u001b[0m \u001b[1;34m\"mod\"\u001b[0m\u001b[1;33m\u001b[0m\u001b[1;33m\u001b[0m\u001b[0m\n\u001b[0m\u001b[0;32m      4\u001b[0m \u001b[0mtuple_variable\u001b[0m\u001b[1;33m\u001b[0m\u001b[1;33m\u001b[0m\u001b[0m\n",
      "\u001b[1;31mTypeError\u001b[0m: 'tuple' object does not support item assignment"
     ]
    }
   ],
   "source": [
    "# Tuples are immutable; reassignment of items is not allowed\n",
    "print(tuple_variable)\n",
    "tuple_variable[0] = \"mod\"\n",
    "tuple_variable"
   ]
  },
  {
   "cell_type": "markdown",
   "metadata": {},
   "source": [
    "> **A note on tuples and immutability**: \n",
    ">\n",
    "> - Tuples are immutable sequences in that they don't support item *reassignment*; `my_tup[5] = 10` will raise an error; you cannot _reassign_ the 5th element of the tuple.\n",
    "> - However, this does not necessarily mean that their member items are immutable; `f = (1, 2, [3, 4]); f[2][0] = -6` is valid because the item modified is a reference to a mutable `list`\n",
    "> - None of the above means that you cannot reassign the _variable's_ value, such as `f = (1, 2, 3); f = [4, 5]`."
   ]
  },
  {
   "cell_type": "code",
   "execution_count": 6,
   "metadata": {},
   "outputs": [
    {
     "name": "stdout",
     "output_type": "stream",
     "text": [
      "{'brand': 'Ford', 'model': 'Mustang', 'year': 1964}\n"
     ]
    },
    {
     "data": {
      "text/plain": [
       "'Ford'"
      ]
     },
     "execution_count": 6,
     "metadata": {},
     "output_type": "execute_result"
    }
   ],
   "source": [
    "#Dictionaries store values that can be accessed with \"keys\"\n",
    "print(dictionary_variable)\n",
    "# Access value for key=brand\n",
    "dictionary_variable[\"brand\"]"
   ]
  },
  {
   "cell_type": "markdown",
   "metadata": {},
   "source": [
    "# Slicing"
   ]
  },
  {
   "cell_type": "markdown",
   "metadata": {},
   "source": [
    "#### Slicing (Indexing)\n",
    "\n",
    "* We have seen this a few times, let’s formally address it.\n",
    "* We can slice (index) sequence like objects similarly\n",
    " * Use `[]`. Python starts counting at 0, so `var[0]` is the first element\n",
    " * We can get a range (a slice) using `\":\"` example: `var[0:2]`\n",
    " * Slices are __start__ inclusive, __finish__ exclusive"
   ]
  },
  {
   "cell_type": "code",
   "execution_count": 22,
   "metadata": {},
   "outputs": [
    {
     "data": {
      "text/plain": [
       "[1, 2, 3, 4, 5, 6, 7, 8, 9, 10]"
      ]
     },
     "execution_count": 22,
     "metadata": {},
     "output_type": "execute_result"
    }
   ],
   "source": [
    "# Slicing: first create a list of numbers\n",
    "seq1 = list(range(1,11))\n",
    "seq1"
   ]
  },
  {
   "cell_type": "code",
   "execution_count": 23,
   "metadata": {},
   "outputs": [
    {
     "data": {
      "text/plain": [
       "[1, 2]"
      ]
     },
     "execution_count": 23,
     "metadata": {},
     "output_type": "execute_result"
    },
    {
     "data": {
      "text/plain": [
       "[3, 4, 5, 6, 7, 8, 9, 10]"
      ]
     },
     "execution_count": 23,
     "metadata": {},
     "output_type": "execute_result"
    },
    {
     "data": {
      "text/plain": [
       "[1, 2, 3, 4, 5, 6, 7, 8]"
      ]
     },
     "execution_count": 23,
     "metadata": {},
     "output_type": "execute_result"
    },
    {
     "data": {
      "text/plain": [
       "[8]"
      ]
     },
     "execution_count": 23,
     "metadata": {},
     "output_type": "execute_result"
    }
   ],
   "source": [
    "## Different slicing techniques\n",
    "# first and second\n",
    "seq1[0:2]\n",
    "# Third to the end\n",
    "seq1[2:]\n",
    "# up to the 8 element\n",
    "seq1[:8]\n",
    "# only the 8 element\n",
    "seq1[7:8]"
   ]
  },
  {
   "cell_type": "markdown",
   "metadata": {},
   "source": [
    "The `\":\"` has three arguments: *Start*, *stop*, *increment* \n",
    "\n",
    "So far, we are leaving the increment blank and therefore it is the default value of 1. \n",
    "\n",
    "*Start*/*Stop* can be negative, implying count from the end. We'll explore this below. *Increment* default value is 1, but it can be any integer (including negative values)."
   ]
  },
  {
   "cell_type": "code",
   "execution_count": 24,
   "metadata": {},
   "outputs": [
    {
     "name": "stdout",
     "output_type": "stream",
     "text": [
      "Starting sequence: [1, 2, 3, 4, 5, 6, 7, 8, 9, 10]\n"
     ]
    }
   ],
   "source": [
    "# Slice stepping \n",
    "print(\"Starting sequence:\", seq1)"
   ]
  },
  {
   "cell_type": "code",
   "execution_count": 25,
   "metadata": {},
   "outputs": [
    {
     "data": {
      "text/plain": [
       "10"
      ]
     },
     "execution_count": 25,
     "metadata": {},
     "output_type": "execute_result"
    }
   ],
   "source": [
    "# first from the end\n",
    "seq1[-1]"
   ]
  },
  {
   "cell_type": "code",
   "execution_count": 26,
   "metadata": {},
   "outputs": [
    {
     "data": {
      "text/plain": [
       "[1, 3, 5, 7, 9]"
      ]
     },
     "execution_count": 26,
     "metadata": {},
     "output_type": "execute_result"
    }
   ],
   "source": [
    "# first to the 9th by 2\n",
    "seq1[:9:2]"
   ]
  },
  {
   "cell_type": "code",
   "execution_count": 27,
   "metadata": {},
   "outputs": [
    {
     "data": {
      "text/plain": [
       "[10, 8, 6, 4, 2]"
      ]
     },
     "execution_count": 27,
     "metadata": {},
     "output_type": "execute_result"
    }
   ],
   "source": [
    "# 10th to the first by negative 2\n",
    "seq1[9:0:-2]"
   ]
  },
  {
   "cell_type": "code",
   "execution_count": 28,
   "metadata": {},
   "outputs": [
    {
     "data": {
      "text/plain": [
       "[]"
      ]
     },
     "execution_count": 28,
     "metadata": {},
     "output_type": "execute_result"
    }
   ],
   "source": [
    "# why does this not print anything?\n",
    "seq1[-2:-5]"
   ]
  },
  {
   "cell_type": "code",
   "execution_count": 29,
   "metadata": {},
   "outputs": [
    {
     "data": {
      "text/plain": [
       "[9, 8, 7]"
      ]
     },
     "execution_count": 29,
     "metadata": {},
     "output_type": "execute_result"
    }
   ],
   "source": [
    "# Because of the step! (increment) -> counting backwards requires negative increment\n",
    "seq1[-2:-5:-1]"
   ]
  },
  {
   "cell_type": "code",
   "execution_count": 30,
   "metadata": {},
   "outputs": [
    {
     "data": {
      "text/plain": [
       "[10, 9, 8, 7, 6, 5, 4, 3, 2, 1]"
      ]
     },
     "execution_count": 30,
     "metadata": {},
     "output_type": "execute_result"
    }
   ],
   "source": [
    "# How would you Reverse the entire sequence? \n",
    "seq1[-1::-1]"
   ]
  },
  {
   "cell_type": "markdown",
   "metadata": {},
   "source": [
    "# Conditional Statements\n",
    "\n",
    "**Conditional statements**, are the way in which a program makes decisions computationally.\n",
    "\n",
    "This computational decision making follows a similar logic to everyday decision making. When you wake up in the morning and ask yourself \"What am I going to have for breakfast\" or for some it's \"Am I going to have breakfast\" you'll likely base your action on some criterion such as \"I'm in the mood for something with cheese\" or \"I'm running late I'll just eat a big lunch\". Decision making, in the simplest of structures, is a two-step process. Make a selection based on criteria and subsequently follow with action.\n",
    "\n",
    "Decision making by a computer is done through code that is evaluated and executed conditionally. Here's a function that uses an `if` statement to determine if a number is an even or odd number."
   ]
  },
  {
   "cell_type": "code",
   "execution_count": 88,
   "metadata": {},
   "outputs": [],
   "source": [
    "def even_or_odd(number):\n",
    "    # '%' is the modulo operator:\n",
    "    # https://docs.python.org/3/reference/expressions.html#binary-arithmetic-operations\n",
    "    mod = number % 2\n",
    "    if mod > 0:\n",
    "        return str(number) + \" is an odd number.\"\n",
    "    else:\n",
    "        return str(number) + \" is an even number.\""
   ]
  },
  {
   "cell_type": "code",
   "execution_count": 89,
   "metadata": {},
   "outputs": [
    {
     "data": {
      "text/plain": [
       "'5 is an odd number.'"
      ]
     },
     "execution_count": 89,
     "metadata": {},
     "output_type": "execute_result"
    }
   ],
   "source": [
    "even_or_odd(5)"
   ]
  },
  {
   "cell_type": "code",
   "execution_count": 90,
   "metadata": {},
   "outputs": [
    {
     "data": {
      "text/plain": [
       "'16 is an even number.'"
      ]
     },
     "execution_count": 90,
     "metadata": {},
     "output_type": "execute_result"
    }
   ],
   "source": [
    "even_or_odd(16)"
   ]
  },
  {
   "cell_type": "code",
   "execution_count": 91,
   "metadata": {},
   "outputs": [
    {
     "data": {
      "text/plain": [
       "'0 is an even number.'"
      ]
     },
     "execution_count": 91,
     "metadata": {},
     "output_type": "execute_result"
    }
   ],
   "source": [
    "# What about 0?\n",
    "even_or_odd(0)"
   ]
  },
  {
   "cell_type": "markdown",
   "metadata": {},
   "source": [
    "But what happens when you put in a 0? The function will tell you that 0 is an even number, but we know that isn't the case. This brings use to nested If statements. You can put if statements within if statements to do further conditional checks. Run the function below to see how the addition of a nested if statement expands the function's capability."
   ]
  },
  {
   "cell_type": "code",
   "execution_count": 92,
   "metadata": {},
   "outputs": [],
   "source": [
    "def even_or_odd(number):\n",
    "    mod = number % 2\n",
    "    if mod == 0:\n",
    "        if number == 0:\n",
    "            return str(number) + \" is neither an odd nor even number.\"\n",
    "        else:\n",
    "            return str(number) + \" is an even number\"\n",
    "    else:\n",
    "        return str(number) + \" is an odd number\""
   ]
  },
  {
   "cell_type": "code",
   "execution_count": 93,
   "metadata": {},
   "outputs": [
    {
     "data": {
      "text/plain": [
       "'2 is an even number'"
      ]
     },
     "execution_count": 93,
     "metadata": {},
     "output_type": "execute_result"
    }
   ],
   "source": [
    "even_or_odd(2)"
   ]
  },
  {
   "cell_type": "code",
   "execution_count": 94,
   "metadata": {},
   "outputs": [
    {
     "data": {
      "text/plain": [
       "'1 is an odd number'"
      ]
     },
     "execution_count": 94,
     "metadata": {},
     "output_type": "execute_result"
    }
   ],
   "source": [
    "even_or_odd(1)"
   ]
  },
  {
   "cell_type": "code",
   "execution_count": 95,
   "metadata": {},
   "outputs": [
    {
     "data": {
      "text/plain": [
       "'0 is neither an odd nor even number.'"
      ]
     },
     "execution_count": 95,
     "metadata": {},
     "output_type": "execute_result"
    }
   ],
   "source": [
    "even_or_odd(0)"
   ]
  },
  {
   "cell_type": "markdown",
   "metadata": {},
   "source": [
    "Conditional statements are very powerful. They, along with iterative statements, serve as the basis for many of the core programming applications within Python by executing logical flow."
   ]
  },
  {
   "cell_type": "markdown",
   "metadata": {},
   "source": [
    "# Loops and List Comprehension\n",
    "\n",
    "#### For Loops\n",
    "\n",
    "There are two distinct types of iterative statements often used in Python, the 'for' loop and the 'while' loop. For loops execute code by iterating over a sequence. They can iterate through lists, tuples, dictionaries, strings, and dataframes. Run the function below, which uses a for loop to sequence through a list and produce each value multiplied by 2, and then stores the value in a new list."
   ]
  },
  {
   "cell_type": "code",
   "execution_count": 96,
   "metadata": {
    "scrolled": true
   },
   "outputs": [],
   "source": [
    "def double_each_value(numeric_list):\n",
    "    new_doubled_list = []\n",
    "    \n",
    "    for x in numeric_list:\n",
    "        new_doubled_list.append(x * 2)\n",
    "        \n",
    "    return new_doubled_list"
   ]
  },
  {
   "cell_type": "code",
   "execution_count": 97,
   "metadata": {},
   "outputs": [
    {
     "data": {
      "text/plain": [
       "[8, 14, 46, 16, 2, 172, 68, 152, 112, 68, 4, 16, 18]"
      ]
     },
     "execution_count": 97,
     "metadata": {},
     "output_type": "execute_result"
    }
   ],
   "source": [
    "numeric_list = [4, 7, 23, 8, 1, 86, 34, 76, 56, 34, 2, 8, 9]\n",
    "double_each_value(numeric_list)"
   ]
  },
  {
   "cell_type": "markdown",
   "metadata": {},
   "source": [
    "Following the above example, a for loop is comprised of the following:\n",
    "\n",
    "- The `for` keyword\n",
    "- An iterator variable that can be called anything (in this case it's 'x') followed by the 'in' keyword\n",
    "- A sequence to loop through (in this case it's `numeric_list`)\n",
    "- The statement to be run on each iteration\n",
    "\n",
    "For loops can also be written as sequence comprehensions. A sequence comprehension is often better than a for loop given that they are roughly one line of code and you can use conditional statements within them. Run the function below that uses a list comprehrension in place of a for loop from the last function."
   ]
  },
  {
   "cell_type": "code",
   "execution_count": 98,
   "metadata": {},
   "outputs": [],
   "source": [
    "def double_each_value(numeric_list):\n",
    "    return [x * 2 for x in numeric_list]"
   ]
  },
  {
   "cell_type": "code",
   "execution_count": 99,
   "metadata": {},
   "outputs": [
    {
     "data": {
      "text/plain": [
       "[8, 14, 46, 16, 2, 172, 68, 152, 112, 68, 4, 16, 18]"
      ]
     },
     "execution_count": 99,
     "metadata": {},
     "output_type": "execute_result"
    }
   ],
   "source": [
    "numeric_list = [4, 7, 23, 8, 1, 86, 34, 76, 56, 34, 2, 8, 9]\n",
    "double_each_value(numeric_list)"
   ]
  },
  {
   "cell_type": "markdown",
   "metadata": {},
   "source": [
    "#### While Loop\n",
    "\n",
    "'While' loops iterate while a specific condition is true, contrary to the for loop where no condition is set. These are useful for a program that needs to constantly run until a specific goal (condition) is met. An example might be using a counter variable in a program and once that counter hits a specific point, the loop stops. The function below defines a function that does just that. This function could be used concurrently with another function as a time-stop method."
   ]
  },
  {
   "cell_type": "code",
   "execution_count": 100,
   "metadata": {},
   "outputs": [
    {
     "name": "stdout",
     "output_type": "stream",
     "text": [
      "The count is: 6\n",
      "The count is: 7\n",
      "The count is: 8\n",
      "All done!\n"
     ]
    }
   ],
   "source": [
    "def while_loop(counter):\n",
    "\n",
    "    while counter < 9:\n",
    "       print(f'The count is: {counter}')\n",
    "       counter += 1\n",
    "\n",
    "    print(\"All done!\")\n",
    "\n",
    "counter = 6\n",
    "while_loop(counter)"
   ]
  },
  {
   "cell_type": "markdown",
   "metadata": {},
   "source": [
    "Following the above example, a `while` loop is comprised of:\n",
    "\n",
    "- The `while` keyword\n",
    "- The condition to be met that will stop the while loop (i.e. count variable less than 9)\n",
    "- A semicolon, `':'`\n",
    "- The command to be executed within the while loop\n",
    "\n",
    "Whatever you come across, make sure that you while loop has a conditional end that can be met! You can have infinite while loops that will massively slow down your machine or application and often will require you to restart your computer."
   ]
  }
 ],
 "metadata": {
  "kernelspec": {
   "display_name": "Python 3",
   "language": "python",
   "name": "python3"
  },
  "language_info": {
   "codemirror_mode": {
    "name": "ipython",
    "version": 3
   },
   "file_extension": ".py",
   "mimetype": "text/x-python",
   "name": "python",
   "nbconvert_exporter": "python",
   "pygments_lexer": "ipython3",
   "version": "3.8.3"
  }
 },
 "nbformat": 4,
 "nbformat_minor": 2
}
